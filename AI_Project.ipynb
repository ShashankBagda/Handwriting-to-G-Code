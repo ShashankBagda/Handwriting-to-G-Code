{
  "cells": [
    {
      "cell_type": "markdown",
      "metadata": {
        "colab_type": "text",
        "id": "view-in-github"
      },
      "source": [
        "<a href=\"https://colab.research.google.com/github/ShashankBagda/Project--AI-Handwriting_to_CNC/blob/main/AI_Project.ipynb\" target=\"_parent\"><img src=\"https://colab.research.google.com/assets/colab-badge.svg\" alt=\"Open In Colab\"/></a>"
      ]
    },
    {
      "cell_type": "markdown",
      "metadata": {
        "id": "5TMtOdpt-lDY"
      },
      "source": [
        "# ***Handwriting to CNC***\n",
        "\n",
        "# ***Artificial Intelligence Project***\n",
        "\n",
        "> Shashank Bagda\n",
        "\n",
        "> 92100133020\n",
        "\n",
        "> 6 TK1 A"
      ]
    },
    {
      "cell_type": "markdown",
      "metadata": {
        "id": "KUnQrGkKJ3Ut"
      },
      "source": [
        "Downloading Dependencies"
      ]
    },
    {
      "cell_type": "code",
      "execution_count": 13,
      "metadata": {
        "colab": {
          "base_uri": "https://localhost:8080/"
        },
        "id": "OiVTJb0vKfRb",
        "outputId": "928cd407-e8eb-4ffe-99d0-15f53719f1a6"
      },
      "outputs": [
        {
          "name": "stdout",
          "output_type": "stream",
          "text": [
            "Requirement already satisfied: opencv-python in c:\\users\\shash\\appdata\\local\\packages\\pythonsoftwarefoundation.python.3.10_qbz5n2kfra8p0\\localcache\\local-packages\\python310\\site-packages (4.8.0.74)\n",
            "Requirement already satisfied: numpy>=1.21.2 in c:\\users\\shash\\appdata\\local\\packages\\pythonsoftwarefoundation.python.3.10_qbz5n2kfra8p0\\localcache\\local-packages\\python310\\site-packages (from opencv-python) (1.25.1)\n",
            "Requirement already satisfied: numpy in c:\\users\\shash\\appdata\\local\\packages\\pythonsoftwarefoundation.python.3.10_qbz5n2kfra8p0\\localcache\\local-packages\\python310\\site-packages (1.25.1)\n",
            "Requirement already satisfied: Pillow in c:\\users\\shash\\appdata\\local\\packages\\pythonsoftwarefoundation.python.3.10_qbz5n2kfra8p0\\localcache\\local-packages\\python310\\site-packages (10.0.0)\n",
            "Requirement already satisfied: python-docx in c:\\users\\shash\\appdata\\local\\packages\\pythonsoftwarefoundation.python.3.10_qbz5n2kfra8p0\\localcache\\local-packages\\python310\\site-packages (1.1.0)\n",
            "Requirement already satisfied: lxml>=3.1.0 in c:\\users\\shash\\appdata\\local\\packages\\pythonsoftwarefoundation.python.3.10_qbz5n2kfra8p0\\localcache\\local-packages\\python310\\site-packages (from python-docx) (5.1.0)\n",
            "Requirement already satisfied: typing-extensions in c:\\users\\shash\\appdata\\local\\packages\\pythonsoftwarefoundation.python.3.10_qbz5n2kfra8p0\\localcache\\local-packages\\python310\\site-packages (from python-docx) (4.8.0)\n"
          ]
        }
      ],
      "source": [
        "!pip install opencv-python\n",
        "!pip install numpy\n",
        "!pip install Pillow\n",
        "!pip install python-docx\n"
      ]
    },
    {
      "cell_type": "markdown",
      "metadata": {
        "id": "P_Ryn-feK0ZJ"
      },
      "source": [
        "Importing all the Libraries"
      ]
    },
    {
      "cell_type": "code",
      "execution_count": 14,
      "metadata": {
        "id": "IYVJuUBBJRRj"
      },
      "outputs": [],
      "source": [
        "import cv2\n",
        "import os\n",
        "import numpy as np\n",
        "import subprocess\n",
        "import shutil\n",
        "import time\n",
        "\n",
        "from PIL import Image\n",
        "\n",
        "from docx import Document\n",
        "from docx.shared import Inches"
      ]
    },
    {
      "cell_type": "markdown",
      "metadata": {
        "id": "M5Fj74UzJriH"
      },
      "source": [
        "Delete the Existing Images"
      ]
    },
    {
      "cell_type": "code",
      "execution_count": 15,
      "metadata": {
        "id": "7gvLdrOXJUjX"
      },
      "outputs": [],
      "source": [
        "def delete_files_in_folder(folder_path):\n",
        "    try:\n",
        "        # List all files in the specified folder\n",
        "        files = os.listdir(folder_path)\n",
        "\n",
        "        # Iterate over each file and delete it\n",
        "        for file in files:\n",
        "            file_path = os.path.join(folder_path, file)\n",
        "            if os.path.isfile(file_path):\n",
        "                os.remove(file_path)\n",
        "                print(f\"Deleted file: {file_path}\")\n",
        "\n",
        "        print(\"All files in the folder have been deleted.\")\n",
        "    except Exception as e:\n",
        "        print(f\"An error occurred: {e}\")"
      ]
    },
    {
      "cell_type": "markdown",
      "metadata": {
        "id": "Zhww5H2-JwKP"
      },
      "source": [
        "Find the Squares from the Input Image"
      ]
    },
    {
      "cell_type": "code",
      "execution_count": 16,
      "metadata": {
        "id": "YkP3rHcVJXC5"
      },
      "outputs": [],
      "source": [
        "def find_squares(image):\n",
        "    gray = cv2.cvtColor(image, cv2.COLOR_BGR2GRAY)\n",
        "    blurred = cv2.GaussianBlur(gray, (5, 5), 0)\n",
        "    edged = cv2.Canny(blurred, 50, 150)\n",
        "\n",
        "    contours, _ = cv2.findContours(edged.copy(), cv2.RETR_EXTERNAL, cv2.CHAIN_APPROX_SIMPLE)\n",
        "    squares = []\n",
        "    for contour in contours:\n",
        "        peri = cv2.arcLength(contour, True)\n",
        "        approx = cv2.approxPolyDP(contour, 0.02 * peri, True)\n",
        "        if len(approx) == 4:\n",
        "            squares.append(approx)\n",
        "    return squares"
      ]
    },
    {
      "cell_type": "markdown",
      "metadata": {
        "id": "TxlpX6rnJznt"
      },
      "source": [
        "Save the Extracted Images"
      ]
    },
    {
      "cell_type": "code",
      "execution_count": 17,
      "metadata": {
        "id": "mnFtxsDBJYzZ"
      },
      "outputs": [],
      "source": [
        "def extract_and_save_squares(image_path, border_margin=6):\n",
        "    image = cv2.imread(image_path)\n",
        "    squares = find_squares(image)\n",
        "    for i, square in enumerate(squares):\n",
        "        x, y, w, h = cv2.boundingRect(square)\n",
        "        # Add margin to remove the border\n",
        "        x += border_margin\n",
        "        y += border_margin\n",
        "        w -= 3 * border_margin\n",
        "        h -= 3 * border_margin\n",
        "        square_img = image[y:y+h, x:x+w]\n",
        "        cv2.imwrite(f'Output/box_{i}.png', square_img)"
      ]
    },
    {
      "cell_type": "markdown",
      "metadata": {
        "id": "MoGXVpcWsLmA"
      },
      "source": [
        "Remove the Background from Images"
      ]
    },
    {
      "cell_type": "code",
      "execution_count": 18,
      "metadata": {
        "id": "f_RowxmwsLAp"
      },
      "outputs": [],
      "source": [
        "def remove_white_background(image_path, output_path):\n",
        "    image = Image.open(image_path)\n",
        "    image = image.convert(\"RGBA\")\n",
        "\n",
        "    data = image.getdata()\n",
        "\n",
        "    new_data = []\n",
        "    for item in data:\n",
        "        if item[0] > 200 and item[1] > 200 and item[2] > 200:\n",
        "            new_data.append((255, 255, 255, 0))  # Set the pixel to transparent\n",
        "        else:\n",
        "            new_data.append(item)\n",
        "\n",
        "    # Update the image with the new data\n",
        "    image.putdata(new_data)\n",
        "\n",
        "    # Save the image with a transparent background\n",
        "    image.save(output_path, \"PNG\")"
      ]
    },
    {
      "cell_type": "markdown",
      "metadata": {
        "id": "3e76-ta-sTIw"
      },
      "source": [
        "Process Images in Folder for Removing the Background"
      ]
    },
    {
      "cell_type": "code",
      "execution_count": 19,
      "metadata": {
        "id": "w_Zfqjv-sWg4"
      },
      "outputs": [],
      "source": [
        "def process_images_in_folder(input_folder, output_folder):\n",
        "    if not os.path.exists(output_folder):\n",
        "        os.makedirs(output_folder)\n",
        "\n",
        "    for filename in os.listdir(input_folder):\n",
        "        if filename.endswith(\".png\") or filename.endswith(\".jpg\") or filename.endswith(\".jpeg\"):\n",
        "            input_path = os.path.join(input_folder, filename)\n",
        "            output_path = os.path.join(output_folder, filename)\n",
        "            remove_white_background(input_path, output_path)\n"
      ]
    },
    {
      "cell_type": "markdown",
      "metadata": {
        "id": "eVliha-us-XQ"
      },
      "source": [
        "Function to read text from a Docx file"
      ]
    },
    {
      "cell_type": "code",
      "execution_count": 20,
      "metadata": {
        "id": "AxrfRTthtABp"
      },
      "outputs": [],
      "source": [
        "def read_text_from_docx(file_path):\n",
        "    doc = Document(file_path)\n",
        "    text = \"\"\n",
        "    for paragraph in doc.paragraphs:\n",
        "        text += paragraph.text + \"\\n\"\n",
        "    return text"
      ]
    },
    {
      "cell_type": "markdown",
      "metadata": {
        "id": "QDkSMRvctGHw"
      },
      "source": [
        "Mapping special characters and alphabets"
      ]
    },
    {
      "cell_type": "code",
      "execution_count": 21,
      "metadata": {
        "id": "1lbjqnsNtJG5"
      },
      "outputs": [],
      "source": [
        "special_chars = {\n",
        "    '_semicolon': ';',\n",
        "    '_full_stop': '.',\n",
        "    '_double_InComma': '\"',\n",
        "    '_underscore': '_',\n",
        "    '_equals': '=',\n",
        "    '_addition': '+',\n",
        "    '_substraction': '-',\n",
        "    '_brac_curl_end': '}',\n",
        "    '_brac_curl_start': '{',\n",
        "    '_brac_square_end': ']',\n",
        "    '_brac_square_start': '[',\n",
        "    '_multiplication': '*',\n",
        "    '_hashtag': '#',\n",
        "    '_and': '&',\n",
        "    '_percentage': '%',\n",
        "    '_dollar': '$',\n",
        "    '_tilde': '~',\n",
        "    '_brac_round_end': ')',\n",
        "    '_brac_round_start': '(',\n",
        "    '_greaterthan': '>',\n",
        "    '_lessthan': '<',\n",
        "    '_slash': '/',\n",
        "    '_toPower': '^',\n",
        "    '_atharet': '@',\n",
        "    '_question': '?',\n",
        "    '_exclamation': '!',\n",
        "    '_colon': ',',\n",
        "    '_comma': ',',\n",
        "    '_apostrophe': \"'\",\n",
        "    '_backquote': '`',\n",
        "    '_backSlash': '\\\\'\n",
        "}\n",
        "\n",
        "capital_char = {\n",
        "    '_A': 'A',\n",
        "    '_B': 'B',\n",
        "    '_C': 'C',\n",
        "    '_D': 'D',\n",
        "    '_E': 'E',\n",
        "    '_F': 'F',\n",
        "    '_G': 'G',\n",
        "    '_H': 'H',\n",
        "    '_I': 'I',\n",
        "    '_J': 'J',\n",
        "    '_K': 'K',\n",
        "    '_L': 'L',\n",
        "    '_M': 'M',\n",
        "    '_N': 'N',\n",
        "    '_O': 'O',\n",
        "    '_P': 'P',\n",
        "    '_Q': 'Q',\n",
        "    '_R': 'R',\n",
        "    '_S': 'S',\n",
        "    '_T': 'T',\n",
        "    '_U': 'U',\n",
        "    '_V': 'V',\n",
        "    '_W': 'W',\n",
        "    '_X': 'X',\n",
        "    '_Y': 'Y',\n",
        "    '_Z': 'Z',\n",
        "}"
      ]
    },
    {
      "cell_type": "markdown",
      "metadata": {
        "id": "s8WD988CsBt5"
      },
      "source": [
        "# ***Driver Code***"
      ]
    },
    {
      "cell_type": "markdown",
      "metadata": {
        "id": "AihuiQe8sqHY"
      },
      "source": [
        "Main.py"
      ]
    },
    {
      "cell_type": "code",
      "execution_count": 22,
      "metadata": {
        "colab": {
          "base_uri": "https://localhost:8080/"
        },
        "id": "yy1IPFMkJbss",
        "outputId": "32e25031-65c6-4e92-ab69-02c4b38a308c"
      },
      "outputs": [
        {
          "name": "stdout",
          "output_type": "stream",
          "text": [
            "An error occurred: [WinError 3] The system cannot find the path specified: '/content/Output'\n"
          ]
        },
        {
          "ename": "error",
          "evalue": "OpenCV(4.8.1) D:\\a\\opencv-python\\opencv-python\\opencv\\modules\\imgproc\\src\\color.cpp:182: error: (-215:Assertion failed) !_src.empty() in function 'cv::cvtColor'\n",
          "output_type": "error",
          "traceback": [
            "\u001b[1;31m---------------------------------------------------------------------------\u001b[0m",
            "\u001b[1;31merror\u001b[0m                                     Traceback (most recent call last)",
            "Cell \u001b[1;32mIn[22], line 7\u001b[0m\n\u001b[0;32m      4\u001b[0m delete_files_in_folder(folder_path)\n\u001b[0;32m      6\u001b[0m image_path \u001b[38;5;241m=\u001b[39m \u001b[38;5;124m'\u001b[39m\u001b[38;5;124m/content/Untitled Folder/digital.png\u001b[39m\u001b[38;5;124m'\u001b[39m\n\u001b[1;32m----> 7\u001b[0m \u001b[43mextract_and_save_squares\u001b[49m\u001b[43m(\u001b[49m\u001b[43mimage_path\u001b[49m\u001b[43m)\u001b[49m\n\u001b[0;32m      9\u001b[0m \u001b[38;5;28mprint\u001b[39m(\u001b[38;5;124m\"\u001b[39m\u001b[38;5;124mImages Extracted Successfully...\u001b[39m\u001b[38;5;124m\"\u001b[39m)\n\u001b[0;32m     10\u001b[0m \u001b[38;5;66;03m# time.sleep(3)\u001b[39;00m\n\u001b[0;32m     11\u001b[0m \n\u001b[0;32m     12\u001b[0m \u001b[38;5;66;03m# subprocess.run(['python3', 'removebg.py'])\u001b[39;00m\n\u001b[1;32m   (...)\u001b[0m\n\u001b[0;32m     17\u001b[0m \n\u001b[0;32m     18\u001b[0m \u001b[38;5;66;03m# subprocess.run(['python3', 'embedder.py'])\u001b[39;00m\n",
            "Cell \u001b[1;32mIn[17], line 3\u001b[0m, in \u001b[0;36mextract_and_save_squares\u001b[1;34m(image_path, border_margin)\u001b[0m\n\u001b[0;32m      1\u001b[0m \u001b[38;5;28;01mdef\u001b[39;00m \u001b[38;5;21mextract_and_save_squares\u001b[39m(image_path, border_margin\u001b[38;5;241m=\u001b[39m\u001b[38;5;241m6\u001b[39m):\n\u001b[0;32m      2\u001b[0m     image \u001b[38;5;241m=\u001b[39m cv2\u001b[38;5;241m.\u001b[39mimread(image_path)\n\u001b[1;32m----> 3\u001b[0m     squares \u001b[38;5;241m=\u001b[39m \u001b[43mfind_squares\u001b[49m\u001b[43m(\u001b[49m\u001b[43mimage\u001b[49m\u001b[43m)\u001b[49m\n\u001b[0;32m      4\u001b[0m     \u001b[38;5;28;01mfor\u001b[39;00m i, square \u001b[38;5;129;01min\u001b[39;00m \u001b[38;5;28menumerate\u001b[39m(squares):\n\u001b[0;32m      5\u001b[0m         x, y, w, h \u001b[38;5;241m=\u001b[39m cv2\u001b[38;5;241m.\u001b[39mboundingRect(square)\n",
            "Cell \u001b[1;32mIn[16], line 2\u001b[0m, in \u001b[0;36mfind_squares\u001b[1;34m(image)\u001b[0m\n\u001b[0;32m      1\u001b[0m \u001b[38;5;28;01mdef\u001b[39;00m \u001b[38;5;21mfind_squares\u001b[39m(image):\n\u001b[1;32m----> 2\u001b[0m     gray \u001b[38;5;241m=\u001b[39m \u001b[43mcv2\u001b[49m\u001b[38;5;241;43m.\u001b[39;49m\u001b[43mcvtColor\u001b[49m\u001b[43m(\u001b[49m\u001b[43mimage\u001b[49m\u001b[43m,\u001b[49m\u001b[43m \u001b[49m\u001b[43mcv2\u001b[49m\u001b[38;5;241;43m.\u001b[39;49m\u001b[43mCOLOR_BGR2GRAY\u001b[49m\u001b[43m)\u001b[49m\n\u001b[0;32m      3\u001b[0m     blurred \u001b[38;5;241m=\u001b[39m cv2\u001b[38;5;241m.\u001b[39mGaussianBlur(gray, (\u001b[38;5;241m5\u001b[39m, \u001b[38;5;241m5\u001b[39m), \u001b[38;5;241m0\u001b[39m)\n\u001b[0;32m      4\u001b[0m     edged \u001b[38;5;241m=\u001b[39m cv2\u001b[38;5;241m.\u001b[39mCanny(blurred, \u001b[38;5;241m50\u001b[39m, \u001b[38;5;241m150\u001b[39m)\n",
            "\u001b[1;31merror\u001b[0m: OpenCV(4.8.1) D:\\a\\opencv-python\\opencv-python\\opencv\\modules\\imgproc\\src\\color.cpp:182: error: (-215:Assertion failed) !_src.empty() in function 'cv::cvtColor'\n"
          ]
        }
      ],
      "source": [
        "if __name__ == \"__main__\":\n",
        "\n",
        "    folder_path = \"/content/Output\"\n",
        "    delete_files_in_folder(folder_path)\n",
        "\n",
        "    image_path = '/content/Untitled Folder/digital.png'\n",
        "    extract_and_save_squares(image_path)\n",
        "\n",
        "    print(\"Images Extracted Successfully...\")\n",
        "    # time.sleep(3)\n",
        "\n",
        "    # subprocess.run(['python3', 'removebg.py'])\n",
        "    # time.sleep(3)\n",
        "\n",
        "    # subprocess.run(['python3', 'rename.py'])\n",
        "    # time.sleep(3)\n",
        "\n",
        "    # subprocess.run(['python3', 'embedder.py'])\n"
      ]
    },
    {
      "cell_type": "markdown",
      "metadata": {
        "id": "AxzNqhdfssEZ"
      },
      "source": [
        "removebg.py"
      ]
    },
    {
      "cell_type": "code",
      "execution_count": null,
      "metadata": {
        "colab": {
          "base_uri": "https://localhost:8080/"
        },
        "id": "Lq82i3wRst1J",
        "outputId": "41bb9edd-51d5-4633-ddca-615853780245"
      },
      "outputs": [
        {
          "name": "stdout",
          "output_type": "stream",
          "text": [
            "Background Removed Successfully...\n"
          ]
        }
      ],
      "source": [
        "input_folder = \"/content/Output\"\n",
        "output_folder = input_folder\n",
        "\n",
        "process_images_in_folder(output_folder, output_folder)\n",
        "\n",
        "print(\"Background Removed Successfully...\")\n",
        "# shutil.rmtree(input_folder)"
      ]
    },
    {
      "cell_type": "markdown",
      "metadata": {
        "id": "AKVuKIcIswHI"
      },
      "source": [
        "rename.py"
      ]
    },
    {
      "cell_type": "code",
      "execution_count": null,
      "metadata": {
        "colab": {
          "base_uri": "https://localhost:8080/"
        },
        "id": "KQ6KU_wGsxoA",
        "outputId": "f2fd8eae-0dd1-44fb-bfd4-e9ffb2981cb7"
      },
      "outputs": [
        {
          "name": "stdout",
          "output_type": "stream",
          "text": [
            "Renamed Successfully...\n"
          ]
        }
      ],
      "source": [
        "default = 'box_'\n",
        "folder_path = '/content/Output'\n",
        "\n",
        "names = ['_full_stop','_double_InComma','_underscore','_equals','_addition','_substraction','_brac_curl_end','_brac_curl_start','_brac_square_end','_brac_square_start','_multiplication','_hashtag','_and','_percentage','_dollar','_tilde','_brac_round_end','_brac_round_start','_greaterthan','_lessthan','_slash','_toPower','_atharet','_question','_exclamation','_colon','_comma','_apostrophe','_backquote','_semicolon','9', '8', '7', '6', '5', '4', '3', '2', '1', '0','z','y', 'x', 'w', 'v', 'u', 't', 's', 'r', 'q', 'p', 'o', 'n', 'm', 'l', 'k', 'j', 'i', 'h', 'g', 'f', 'e', 'd', 'c', 'b', 'a', '_Z', '_Y', '_X', '_W', '_V', '_U', '_T', '_S', '_R', '_Q', '_P', '_O', '_N', '_M', '_L', '_K', '_J', '_I', '_H', '_G', '_F', '_E', '_D', '_C', '_B', '_A']\n",
        "# print(len(names))\n",
        "\n",
        "file_list = os.listdir(folder_path)\n",
        "for i, filename in enumerate(file_list):\n",
        "\n",
        "    old = '/content/Output/' + default + str(i) + '.png'\n",
        "    new = '/content/Output/' + names[i] + '.png'\n",
        "    os.rename(old, new)\n",
        "\n",
        "print(\"Renamed Successfully...\")"
      ]
    },
    {
      "cell_type": "markdown",
      "metadata": {
        "id": "sQXqx5hqs2-C"
      },
      "source": [
        "embedder.py"
      ]
    },
    {
      "cell_type": "code",
      "execution_count": null,
      "metadata": {
        "id": "nr8BewJWs46i"
      },
      "outputs": [],
      "source": [
        "# input_docx = \"Input.docx\"\n",
        "# text = read_text_from_docx(input_docx)\n",
        "# output_doc = Document()\n",
        "\n",
        "# for char in text:\n",
        "#     if char == '\\n':\n",
        "#         #file_name = \"Output/Enter.png\"\n",
        "#         continue\n",
        "#     elif char == ' ':\n",
        "#         file_name = \"space.png\"\n",
        "#     elif char in special_chars.values():\n",
        "#         for special_char, filename in special_chars.items():\n",
        "#             if char == filename:\n",
        "#                 file_name = f\"/content/Output/{special_char}.png\"\n",
        "#                 break\n",
        "#     for capital_key, capital_value in capital_char.items():\n",
        "#         if char == capital_value:\n",
        "#             file_name = f\"/content/Output/{capital_key}.png\"\n",
        "#             break\n",
        "\n",
        "#     else:\n",
        "#         file_name = f\"/content/Output/{char}.png\"\n",
        "\n",
        "#     output_doc.add_picture(file_name, width=Inches(1))\n",
        "\n",
        "# output_doc.save(\"Output.docx\")\n",
        "\n",
        "# print(\"Words Embedded Successfully...\")"
      ]
    }
  ],
  "metadata": {
    "colab": {
      "authorship_tag": "ABX9TyP0FNQHQry4tB79LEPaz1Yn",
      "include_colab_link": true,
      "mount_file_id": "1-tpjFHwEZyPqdZTL38O0O3KZqFCNgwUb",
      "provenance": []
    },
    "kernelspec": {
      "display_name": "Python 3",
      "name": "python3"
    },
    "language_info": {
      "codemirror_mode": {
        "name": "ipython",
        "version": 3
      },
      "file_extension": ".py",
      "mimetype": "text/x-python",
      "name": "python",
      "nbconvert_exporter": "python",
      "pygments_lexer": "ipython3",
      "version": "3.10.11"
    }
  },
  "nbformat": 4,
  "nbformat_minor": 0
}
