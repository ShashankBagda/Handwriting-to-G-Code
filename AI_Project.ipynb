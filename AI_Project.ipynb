{
  "nbformat": 4,
  "nbformat_minor": 0,
  "metadata": {
    "colab": {
      "provenance": [],
      "mount_file_id": "1-tpjFHwEZyPqdZTL38O0O3KZqFCNgwUb",
      "authorship_tag": "ABX9TyP0FNQHQry4tB79LEPaz1Yn",
      "include_colab_link": true
    },
    "kernelspec": {
      "name": "python3",
      "display_name": "Python 3"
    },
    "language_info": {
      "name": "python"
    }
  },
  "cells": [
    {
      "cell_type": "markdown",
      "metadata": {
        "id": "view-in-github",
        "colab_type": "text"
      },
      "source": [
        "<a href=\"https://colab.research.google.com/github/ShashankBagda/Project--AI-Handwriting_to_CNC/blob/main/AI_Project.ipynb\" target=\"_parent\"><img src=\"https://colab.research.google.com/assets/colab-badge.svg\" alt=\"Open In Colab\"/></a>"
      ]
    },
    {
      "cell_type": "markdown",
      "source": [
        "# ***Handwriting to CNC***\n",
        "\n",
        "# ***Artificial Intelligence Project***\n",
        "\n",
        "> Shashank Bagda\n",
        "\n",
        "> 92100133020\n",
        "\n",
        "> 6 TK1 A"
      ],
      "metadata": {
        "id": "5TMtOdpt-lDY"
      }
    },
    {
      "cell_type": "markdown",
      "source": [
        "Downloading Dependencies"
      ],
      "metadata": {
        "id": "KUnQrGkKJ3Ut"
      }
    },
    {
      "cell_type": "code",
      "source": [
        "!pip install opencv-python\n",
        "!pip install numpy\n",
        "!pip install Pillow\n",
        "!pip install python-docx\n"
      ],
      "metadata": {
        "colab": {
          "base_uri": "https://localhost:8080/"
        },
        "id": "OiVTJb0vKfRb",
        "outputId": "928cd407-e8eb-4ffe-99d0-15f53719f1a6"
      },
      "execution_count": 1,
      "outputs": [
        {
          "output_type": "stream",
          "name": "stdout",
          "text": [
            "Requirement already satisfied: opencv-python in /usr/local/lib/python3.10/dist-packages (4.8.0.76)\n",
            "Requirement already satisfied: numpy>=1.21.2 in /usr/local/lib/python3.10/dist-packages (from opencv-python) (1.25.2)\n",
            "Requirement already satisfied: numpy in /usr/local/lib/python3.10/dist-packages (1.25.2)\n",
            "Requirement already satisfied: Pillow in /usr/local/lib/python3.10/dist-packages (9.4.0)\n",
            "Collecting python-docx\n",
            "  Downloading python_docx-1.1.0-py3-none-any.whl (239 kB)\n",
            "\u001b[2K     \u001b[90m━━━━━━━━━━━━━━━━━━━━━━━━━━━━━━━━━━━━━━━━\u001b[0m \u001b[32m239.6/239.6 kB\u001b[0m \u001b[31m5.5 MB/s\u001b[0m eta \u001b[36m0:00:00\u001b[0m\n",
            "\u001b[?25hRequirement already satisfied: lxml>=3.1.0 in /usr/local/lib/python3.10/dist-packages (from python-docx) (4.9.4)\n",
            "Requirement already satisfied: typing-extensions in /usr/local/lib/python3.10/dist-packages (from python-docx) (4.9.0)\n",
            "Installing collected packages: python-docx\n",
            "Successfully installed python-docx-1.1.0\n"
          ]
        }
      ]
    },
    {
      "cell_type": "markdown",
      "source": [
        "Importing all the Libraries"
      ],
      "metadata": {
        "id": "P_Ryn-feK0ZJ"
      }
    },
    {
      "cell_type": "code",
      "source": [
        "import cv2\n",
        "import os\n",
        "import numpy as np\n",
        "import subprocess\n",
        "import shutil\n",
        "import time\n",
        "\n",
        "from PIL import Image\n",
        "\n",
        "from docx import Document\n",
        "from docx.shared import Inches"
      ],
      "metadata": {
        "id": "IYVJuUBBJRRj"
      },
      "execution_count": 2,
      "outputs": []
    },
    {
      "cell_type": "markdown",
      "source": [
        "Delete the Existing Images"
      ],
      "metadata": {
        "id": "M5Fj74UzJriH"
      }
    },
    {
      "cell_type": "code",
      "source": [
        "def delete_files_in_folder(folder_path):\n",
        "    try:\n",
        "        # List all files in the specified folder\n",
        "        files = os.listdir(folder_path)\n",
        "\n",
        "        # Iterate over each file and delete it\n",
        "        for file in files:\n",
        "            file_path = os.path.join(folder_path, file)\n",
        "            if os.path.isfile(file_path):\n",
        "                os.remove(file_path)\n",
        "                print(f\"Deleted file: {file_path}\")\n",
        "\n",
        "        print(\"All files in the folder have been deleted.\")\n",
        "    except Exception as e:\n",
        "        print(f\"An error occurred: {e}\")"
      ],
      "metadata": {
        "id": "7gvLdrOXJUjX"
      },
      "execution_count": 3,
      "outputs": []
    },
    {
      "cell_type": "markdown",
      "source": [
        "Find the Squares from the Input Image"
      ],
      "metadata": {
        "id": "Zhww5H2-JwKP"
      }
    },
    {
      "cell_type": "code",
      "source": [
        "def find_squares(image):\n",
        "    gray = cv2.cvtColor(image, cv2.COLOR_BGR2GRAY)\n",
        "    blurred = cv2.GaussianBlur(gray, (5, 5), 0)\n",
        "    edged = cv2.Canny(blurred, 50, 150)\n",
        "\n",
        "    contours, _ = cv2.findContours(edged.copy(), cv2.RETR_EXTERNAL, cv2.CHAIN_APPROX_SIMPLE)\n",
        "    squares = []\n",
        "    for contour in contours:\n",
        "        peri = cv2.arcLength(contour, True)\n",
        "        approx = cv2.approxPolyDP(contour, 0.02 * peri, True)\n",
        "        if len(approx) == 4:\n",
        "            squares.append(approx)\n",
        "    return squares"
      ],
      "metadata": {
        "id": "YkP3rHcVJXC5"
      },
      "execution_count": 4,
      "outputs": []
    },
    {
      "cell_type": "markdown",
      "source": [
        "Save the Extracted Images"
      ],
      "metadata": {
        "id": "TxlpX6rnJznt"
      }
    },
    {
      "cell_type": "code",
      "source": [
        "def extract_and_save_squares(image_path, border_margin=5):\n",
        "    image = cv2.imread(image_path)\n",
        "    squares = find_squares(image)\n",
        "    for i, square in enumerate(squares):\n",
        "        x, y, w, h = cv2.boundingRect(square)\n",
        "        # Add margin to remove the border\n",
        "        x += border_margin\n",
        "        y += border_margin\n",
        "        w -= 2 * border_margin\n",
        "        h -= 2 * border_margin\n",
        "        square_img = image[y:y+h, x:x+w]\n",
        "        cv2.imwrite(f'Output/box_{i}.png', square_img)"
      ],
      "metadata": {
        "id": "mnFtxsDBJYzZ"
      },
      "execution_count": 5,
      "outputs": []
    },
    {
      "cell_type": "markdown",
      "source": [
        "Remove the Background from Images"
      ],
      "metadata": {
        "id": "MoGXVpcWsLmA"
      }
    },
    {
      "cell_type": "code",
      "source": [
        "def remove_white_background(image_path, output_path):\n",
        "    image = Image.open(image_path)\n",
        "    image = image.convert(\"RGBA\")\n",
        "\n",
        "    data = image.getdata()\n",
        "\n",
        "    new_data = []\n",
        "    for item in data:\n",
        "        if item[0] > 200 and item[1] > 200 and item[2] > 200:\n",
        "            new_data.append((255, 255, 255, 0))  # Set the pixel to transparent\n",
        "        else:\n",
        "            new_data.append(item)\n",
        "\n",
        "    # Update the image with the new data\n",
        "    image.putdata(new_data)\n",
        "\n",
        "    # Save the image with a transparent background\n",
        "    image.save(output_path, \"PNG\")"
      ],
      "metadata": {
        "id": "f_RowxmwsLAp"
      },
      "execution_count": 6,
      "outputs": []
    },
    {
      "cell_type": "markdown",
      "source": [
        "Process Images in Folder for Removing the Background"
      ],
      "metadata": {
        "id": "3e76-ta-sTIw"
      }
    },
    {
      "cell_type": "code",
      "source": [
        "def process_images_in_folder(input_folder, output_folder):\n",
        "    if not os.path.exists(output_folder):\n",
        "        os.makedirs(output_folder)\n",
        "\n",
        "    for filename in os.listdir(input_folder):\n",
        "        if filename.endswith(\".png\") or filename.endswith(\".jpg\") or filename.endswith(\".jpeg\"):\n",
        "            input_path = os.path.join(input_folder, filename)\n",
        "            output_path = os.path.join(output_folder, filename)\n",
        "            remove_white_background(input_path, output_path)\n"
      ],
      "metadata": {
        "id": "w_Zfqjv-sWg4"
      },
      "execution_count": 7,
      "outputs": []
    },
    {
      "cell_type": "markdown",
      "source": [
        "Function to read text from a Docx file"
      ],
      "metadata": {
        "id": "eVliha-us-XQ"
      }
    },
    {
      "cell_type": "code",
      "source": [
        "def read_text_from_docx(file_path):\n",
        "    doc = Document(file_path)\n",
        "    text = \"\"\n",
        "    for paragraph in doc.paragraphs:\n",
        "        text += paragraph.text + \"\\n\"\n",
        "    return text"
      ],
      "metadata": {
        "id": "AxrfRTthtABp"
      },
      "execution_count": 8,
      "outputs": []
    },
    {
      "cell_type": "markdown",
      "source": [
        "Mapping special characters and alphabets"
      ],
      "metadata": {
        "id": "QDkSMRvctGHw"
      }
    },
    {
      "cell_type": "code",
      "source": [
        "special_chars = {\n",
        "    '_semicolon': ';',\n",
        "    '_full_stop': '.',\n",
        "    '_double_InComma': '\"',\n",
        "    '_underscore': '_',\n",
        "    '_equals': '=',\n",
        "    '_addition': '+',\n",
        "    '_substraction': '-',\n",
        "    '_brac_curl_end': '}',\n",
        "    '_brac_curl_start': '{',\n",
        "    '_brac_square_end': ']',\n",
        "    '_brac_square_start': '[',\n",
        "    '_multiplication': '*',\n",
        "    '_hashtag': '#',\n",
        "    '_and': '&',\n",
        "    '_percentage': '%',\n",
        "    '_dollar': '$',\n",
        "    '_tilde': '~',\n",
        "    '_brac_round_end': ')',\n",
        "    '_brac_round_start': '(',\n",
        "    '_greaterthan': '>',\n",
        "    '_lessthan': '<',\n",
        "    '_slash': '/',\n",
        "    '_toPower': '^',\n",
        "    '_atharet': '@',\n",
        "    '_question': '?',\n",
        "    '_exclamation': '!',\n",
        "    '_colon': ',',\n",
        "    '_comma': ',',\n",
        "    '_apostrophe': \"'\",\n",
        "    '_backquote': '`',\n",
        "    '_backSlash': '\\\\'\n",
        "}\n",
        "\n",
        "capital_char = {\n",
        "    '_A': 'A',\n",
        "    '_B': 'B',\n",
        "    '_C': 'C',\n",
        "    '_D': 'D',\n",
        "    '_E': 'E',\n",
        "    '_F': 'F',\n",
        "    '_G': 'G',\n",
        "    '_H': 'H',\n",
        "    '_I': 'I',\n",
        "    '_J': 'J',\n",
        "    '_K': 'K',\n",
        "    '_L': 'L',\n",
        "    '_M': 'M',\n",
        "    '_N': 'N',\n",
        "    '_O': 'O',\n",
        "    '_P': 'P',\n",
        "    '_Q': 'Q',\n",
        "    '_R': 'R',\n",
        "    '_S': 'S',\n",
        "    '_T': 'T',\n",
        "    '_U': 'U',\n",
        "    '_V': 'V',\n",
        "    '_W': 'W',\n",
        "    '_X': 'X',\n",
        "    '_Y': 'Y',\n",
        "    '_Z': 'Z',\n",
        "}"
      ],
      "metadata": {
        "id": "1lbjqnsNtJG5"
      },
      "execution_count": 9,
      "outputs": []
    },
    {
      "cell_type": "markdown",
      "source": [
        "# ***Driver Code***"
      ],
      "metadata": {
        "id": "s8WD988CsBt5"
      }
    },
    {
      "cell_type": "markdown",
      "source": [
        "Main.py"
      ],
      "metadata": {
        "id": "AihuiQe8sqHY"
      }
    },
    {
      "cell_type": "code",
      "source": [
        "if __name__ == \"__main__\":\n",
        "\n",
        "    folder_path = \"/content/Output\"\n",
        "    delete_files_in_folder(folder_path)\n",
        "\n",
        "    image_path = '/content/Untitled Folder/digital.png'\n",
        "    extract_and_save_squares(image_path)\n",
        "\n",
        "    print(\"Images Extracted Successfully...\")\n",
        "    # time.sleep(3)\n",
        "\n",
        "    # subprocess.run(['python3', 'removebg.py'])\n",
        "    # time.sleep(3)\n",
        "\n",
        "    # subprocess.run(['python3', 'rename.py'])\n",
        "    # time.sleep(3)\n",
        "\n",
        "    # subprocess.run(['python3', 'embedder.py'])\n"
      ],
      "metadata": {
        "id": "yy1IPFMkJbss",
        "colab": {
          "base_uri": "https://localhost:8080/"
        },
        "outputId": "32e25031-65c6-4e92-ab69-02c4b38a308c"
      },
      "execution_count": 11,
      "outputs": [
        {
          "output_type": "stream",
          "name": "stdout",
          "text": [
            "All files in the folder have been deleted.\n",
            "Images Extracted Successfully...\n"
          ]
        }
      ]
    },
    {
      "cell_type": "markdown",
      "source": [
        "removebg.py"
      ],
      "metadata": {
        "id": "AxzNqhdfssEZ"
      }
    },
    {
      "cell_type": "code",
      "source": [
        "input_folder = \"/content/Output\"\n",
        "output_folder = input_folder\n",
        "\n",
        "process_images_in_folder(output_folder, output_folder)\n",
        "\n",
        "print(\"Background Removed Successfully...\")\n",
        "# shutil.rmtree(input_folder)"
      ],
      "metadata": {
        "colab": {
          "base_uri": "https://localhost:8080/"
        },
        "id": "Lq82i3wRst1J",
        "outputId": "41bb9edd-51d5-4633-ddca-615853780245"
      },
      "execution_count": 12,
      "outputs": [
        {
          "output_type": "stream",
          "name": "stdout",
          "text": [
            "Background Removed Successfully...\n"
          ]
        }
      ]
    },
    {
      "cell_type": "markdown",
      "source": [
        "rename.py"
      ],
      "metadata": {
        "id": "AKVuKIcIswHI"
      }
    },
    {
      "cell_type": "code",
      "source": [
        "default = 'box_'\n",
        "folder_path = '/content/Output'\n",
        "\n",
        "names = ['_full_stop','_double_InComma','_underscore','_equals','_addition','_substraction','_brac_curl_end','_brac_curl_start','_brac_square_end','_brac_square_start','_multiplication','_hashtag','_and','_percentage','_dollar','_tilde','_brac_round_end','_brac_round_start','_greaterthan','_lessthan','_slash','_toPower','_atharet','_question','_exclamation','_colon','_comma','_apostrophe','_backquote','_semicolon','9', '8', '7', '6', '5', '4', '3', '2', '1', '0','z','y', 'x', 'w', 'v', 'u', 't', 's', 'r', 'q', 'p', 'o', 'n', 'm', 'l', 'k', 'j', 'i', 'h', 'g', 'f', 'e', 'd', 'c', 'b', 'a', '_Z', '_Y', '_X', '_W', '_V', '_U', '_T', '_S', '_R', '_Q', '_P', '_O', '_N', '_M', '_L', '_K', '_J', '_I', '_H', '_G', '_F', '_E', '_D', '_C', '_B', '_A']\n",
        "# print(len(names))\n",
        "\n",
        "file_list = os.listdir(folder_path)\n",
        "for i, filename in enumerate(file_list):\n",
        "\n",
        "    old = '/content/Output/' + default + str(i) + '.png'\n",
        "    new = '/content/Output/' + names[i] + '.png'\n",
        "    os.rename(old, new)\n",
        "\n",
        "print(\"Renamed Successfully...\")"
      ],
      "metadata": {
        "colab": {
          "base_uri": "https://localhost:8080/"
        },
        "id": "KQ6KU_wGsxoA",
        "outputId": "f2fd8eae-0dd1-44fb-bfd4-e9ffb2981cb7"
      },
      "execution_count": 13,
      "outputs": [
        {
          "output_type": "stream",
          "name": "stdout",
          "text": [
            "Renamed Successfully...\n"
          ]
        }
      ]
    },
    {
      "cell_type": "markdown",
      "source": [
        "embedder.py"
      ],
      "metadata": {
        "id": "sQXqx5hqs2-C"
      }
    },
    {
      "cell_type": "code",
      "source": [
        "# input_docx = \"Input.docx\"\n",
        "# text = read_text_from_docx(input_docx)\n",
        "# output_doc = Document()\n",
        "\n",
        "# for char in text:\n",
        "#     if char == '\\n':\n",
        "#         #file_name = \"Output/Enter.png\"\n",
        "#         continue\n",
        "#     elif char == ' ':\n",
        "#         file_name = \"space.png\"\n",
        "#     elif char in special_chars.values():\n",
        "#         for special_char, filename in special_chars.items():\n",
        "#             if char == filename:\n",
        "#                 file_name = f\"/content/Output/{special_char}.png\"\n",
        "#                 break\n",
        "#     for capital_key, capital_value in capital_char.items():\n",
        "#         if char == capital_value:\n",
        "#             file_name = f\"/content/Output/{capital_key}.png\"\n",
        "#             break\n",
        "\n",
        "#     else:\n",
        "#         file_name = f\"/content/Output/{char}.png\"\n",
        "\n",
        "#     output_doc.add_picture(file_name, width=Inches(1))\n",
        "\n",
        "# output_doc.save(\"Output.docx\")\n",
        "\n",
        "# print(\"Words Embedded Successfully...\")"
      ],
      "metadata": {
        "id": "nr8BewJWs46i"
      },
      "execution_count": 15,
      "outputs": []
    }
  ]
}